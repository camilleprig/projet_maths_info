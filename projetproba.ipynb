{
 "cells": [
  {
   "cell_type": "markdown",
   "metadata": {},
   "source": [
    "# Processus ponctuels \n",
    "\n",
    "Les processus ponctuels sont des modèles probabilistes permettant de décrire la position aléatoire de points dans un domaine spatial. Ils peuvent être utilisés pour modéliser un grand nombre de phénomènes, parmi lesquels on peut citer l'implantation des essences d'arbres au sein d'une forêt, la position des épicentres de séismes ou des départs de feux, la mortalité dans une épidémie, ou encore l'occurence de crimes ou délits en zone urbaine. \n",
    "\n",
    "Dans ce projet, on se propose d'étudier et de simuler un certain nombre de modèles dans $\\mathbb{R}^2$, de complexité croissante, de manière à construire un prototype de modèle écologique visant à simuler la plantation puis l'évolution d'une forêt.\n",
    "\n",
    "On admet que l'on caractérise la loi de probabilité d'un processus ponctuel spatial $\\mathcal{P}$ par le biais de sa *mesure de comptage*, qui est l'application qui à $A \\in \\mathcal{B}(\\mathbb{R}^2)$ associe $N(A)$, la variable aléatoire qui donne le nombre de points de $\\mathcal{P}$ contenus dans $A$. \n",
    "\n",
    "La *loi spatiale de la mesure de comptage* est définie $\\forall p \\in \\mathbb{N^\\star}, \\forall n_1,\\ldots,n_p \\in \\mathbb{N}^p, \\forall A_1,\\ldots,A_p \\in \\mathcal{B}(\\mathbb{R}^2)$ par $\\mathbb{P}(N(A_1)= n_1, \\ldots, N(A_n)=n_p)$.\n",
    "\n",
    "## Processus de Poisson homogène\n",
    "\n",
    "On définit le processus de Poisson homogène de la manière suivante :\n",
    "\n",
    "1. Si $ A \\in {\\cal B} (\\R^2) $, alors $N (A)$ suit\n",
    "      une loi de Poisson de paramètre $\\theta \\, | A |$, avec $|A| = \\lambda(A)$, où $\\lambda$ est la mesure de Lebesgue\n",
    "      $$ \\mathbb{P} ( N (A) = n) = \\exp \\bigl( - \\theta | A | \\bigr) \\frac{\n",
    "        \\bigl( \\theta | A | \\bigr)^n }{n!},~n \\in \\N $$\n",
    "\n",
    "\n",
    "2. Pour tout $p\\ge 2$, si $A_1,...,A_p \\in {\\cal B} (\\R^2) $ sont \n",
    "      disjoints deux à deux, alors $ N(A_1),...,N(A_p)$ sont \n",
    "      mutuellement indépendants\n",
    "\n",
    "Le paramètre $\\theta$ est appelé l'intensité du processus.\n",
    "\n",
    "**Question 1.** \n",
    "\n",
    "a. Montrer que cette définition permet de caractériser la loi spatiale de la mesure de comptage du processus pour un couple de boréliens. c'est-à-dire qu'elle permet de calculer $\\mathbb{P}(N(A)= n, N(B)=p),~\\forall \\,n,p \\in \\mathbb{N^\\star} \\,\\forall A, B \\in \\mathcal{B}(\\mathbb{R}^2)$.\n",
    "\n",
    "\n"
   ]
  },
  {
   "cell_type": "markdown",
   "metadata": {},
   "source": [
    "**Réponse 1.a** : $$\\mathbb{P}(N(A)= n, N(B)=p)$$\n",
    "$$=\\sum_{k=0}^{min(n,p)} \\mathbb{P}(N(A)= n, N(B)=p, N(A\\cap B)=k) $$\n",
    "$$= \\sum_{k=0}^{min(n,p)} \\mathbb{P}(N(A\\backslash B)= n-k, N(B)=p)$$ \n",
    "$$= \\sum_{k=0}^{min(n,p)} \\mathbb{P}(N(A\\backslash B)= n-k)*\\mathbb{P}(N(B)= p)$$ \n",
    "par indépendance des N($A_i$) pour des $A_i$ disjoints\n",
    "$$ = \\sum_{k=0}^{min(n,p)} e^{ \\bigl( - \\theta | A\\backslash B | \\bigr)} \\frac{\\bigl( \\theta | A\\backslash B | \\bigr)^{n-k} }{(n-k)!} *\\exp \\bigl( - \\theta | B | \\bigr) \\frac{\\bigl( \\theta | B | \\bigr)^{p} }{p!}$$\n",
    "\n",
    "\n",
    "***J'arrive pas trop à voir ce qu'on met dans la conclusion...***\n",
    "\n",
    "\n",
    "\n",
    "b. *(facultatif)* Montrer que cette définition permet de caractériser la loi spatiale de la mesure de comptage du processus."
   ]
  },
  {
   "cell_type": "markdown",
   "metadata": {},
   "source": [
    "**Question 2.** Soit $n \\in \\mathbb{N}^\\star$, montrer que pour tout $A, B\\in\\mathbb{R}^2$ tels que  $B \\subset A$, on a\n",
    " $$ \\mathbb{P}(N(B) = i | N(A) = n)={ n \\choose i } \\left( \\frac{ | B | }{ | A | } \\right)^i \n",
    "\\, \\left( 1 - \\frac{ | B | }{ | A | } \\right)^{n - i}$$\n",
    "En déduire que conditionnellement à $N(A)=n$, les $n$ points sont indépendamment et uniformément distribués dans $A$ \n",
    " \n",
    "*(Indication: On pourra faire un parallèle avec des expériences de Bernoulli indépendantes)*.\n"
   ]
  },
  {
   "cell_type": "markdown",
   "metadata": {},
   "source": [
    "**Réponse 2** : \n",
    "D'après la formule de Bayes : \n",
    "$$ \\mathbb{P}(N(B) = i | N(A) = n)= \\frac{\\mathbb{P}(N(A) = n | N(B) = i)*\\mathbb{P}(N(B) = i)}{\\mathbb{P}(N(A) = n)} $$  \n",
    "Or $\\mathbb{P}(N(A) = n | N(B) = i)= \\mathbb{P}(N(A\\backslash B) = n-i | N(B) = i)$ car B inclut dans A  \n",
    "D'où $\\mathbb{P}(N(A) = n | N(B) = i)=\\mathbb{P}(N(A\\backslash B) = n-i)$ par indépendance des évènements $N(A\\backslash B)$ et $N(B)$ car $A\\backslash B$ et $B$ sont disjoints  \n",
    "Ainsi $\\mathbb{P}(N(A) = n | N(B) = i)=\\frac{\\mathbb{P}(N(A\\backslash B)=n-i)*\\mathbb{P}(N(B) = i)}{\\mathbb{P}(N(A) = n)} $ donc en remplaçant ces différentes probabilités par leur expression on trouve:  \n",
    "$$ \\mathbb{P}(N(B) = i | N(A) = n)={ n \\choose i } \\left( \\frac{ | B | }{ | A | } \\right)^i \n",
    "\\, \\left( 1 - \\frac{ | B | }{ | A | } \\right)^{n - i}$$ \n",
    "car $|A\\backslash B|=|A|-|B|$  \n",
    "\n",
    "On remarque que conditionnellement à $N(A)=n$, $N(B)$ suit une loi binomiale de paramètres $(n,\\frac{|B|}{|A|})$ et cela pour tout B inclus dans A. Or une loi binomiale est assimilable à la somme de variables de Bernouilli indépendantes de même paramètre donc c'est comme si chacun des n points était distribués de manière indépendantes dans A selon un paramètre proportionnel à la taille de la sous-partie de A considérée donc uniformement dans A."
   ]
  },
  {
   "cell_type": "markdown",
   "metadata": {},
   "source": [
    "**Question 3.** Soient $A, B \\in \\cal{B}(\\mathbb{R}^2)$, montrer que $\\mathrm{Cov}(N(A),N(B)) = \\theta |A \\cap B|$."
   ]
  },
  {
   "cell_type": "markdown",
   "metadata": {},
   "source": [
    "**Réponse 3** : \n",
    "- Si A et B sont disjoint par indépendance de N(A) et N(B) (par définition) alors $\\mathrm{Cov}(N(A),N(B)) = 0 =\\theta |A \\cap B|$.\n",
    "\n",
    "- Sinon $N(A)= N(A\\backslash B) + N(A \\cap B)$   \n",
    "donc $\\mathrm{Cov}(N(A),N(B)) = \\mathrm{Cov}(N(A\\backslash B) ,N(B)) + \\mathrm{Cov}(N(A \\cap B), N(B))$   \n",
    "or $A\\backslash B$ et $B$ sont disjoints donc $\\mathrm{Cov}(N(A\\backslash B) ,N(B))=0$.  \n",
    "Ainsi il reste juste à calculer $\\mathrm{Cov}(N(A \\cap B), N(B))$ on pose $C=A \\cap B$, on se ramène à la question 2 car C est inclus dans B   \n",
    "$\\mathrm{Cov}(N(C),N(B)) =\\mathbb{E}(N(C)N(B))-\\mathbb{E}(N(C))\\mathbb{E}(N(B))$  \n",
    "Or comme N(C) et N(B) suivent des lois de poisson de paramètres respectifs $\\theta \\, | C |$ et $\\theta \\, | B |$ leurs espérances vallent $\\theta \\, | C |$ et $\\theta \\, | B |$  \n",
    "Donc il nous reste à calculer $\\mathbb{E}(N(C)N(B))$\n",
    "$$\\mathbb{E}(N(C)N(B))=\\sum_{n=0}^{\\inf}\\sum_{i=0}^{\\inf}ni\\mathbb{P}(N(C) = i, N(B) = n)$$\n",
    "$$\\mathbb{E}(N(C)N(B))=\\sum_{n=0}^{\\inf}\\sum_{i=0}^{\\inf}ni\\mathbb{P}(N(C) = i| N(B) = n)\\mathbb{P}(N(B)=n)$$\n",
    "$$\\mathbb{E}(N(C)N(B))=\\sum_{n=0}^{\\inf}n\\mathbb{P}(N(B)=n)\\sum_{i=0}^{n}i{ n \\choose i } \\left( \\frac{ | C | }{ | B | } \\right)^i \n",
    "\\, \\left( 1 - \\frac{ | C | }{ | B | } \\right)^{n - i}$$\n",
    "car on s'est ramené au cas de la question 2, on reconnait pour la seconde somme l'espérance d'une loi de Binomiale de paramètre $(n,\\frac{ | C | }{ | B | })$ d'ou:\n",
    "$$\\mathbb{E}(N(C)N(B))=\\frac{ | C | }{ | B | }*\\sum_{n=0}^{\\inf}n^2\\exp \\bigl( - \\theta | B | \\bigr) \\frac{\n",
    "        \\bigl( \\theta | B | \\bigr)^n }{n!}$$\n",
    "On reconnait ici la variance + l'espérance au carrée d'une loi de Poisson de paramètre $\\theta \\, | B |$ qui vaut $\\theta \\, | B |+(\\theta \\, | B |)^2$ \n",
    "Ainsi $\\mathbb{E}(N(C)N(B))=\\theta| C |(1+\\theta|B|)$ \n",
    "D'où:\n",
    "$$\\mathrm{Cov}(N(A),N(B))=\\theta| C |(1+\\theta|B|)-\\theta| C |\\theta| B |$$\n",
    "$$=\\theta| C |$$\n",
    "$$=\\theta| A\\cap B |$$"
   ]
  },
  {
   "cell_type": "markdown",
   "metadata": {},
   "source": [
    "**Question 4.** Proposer et implémenter un algorithme de simulation d'un processus de Poisson de paramètre $\\theta = 0.05$ sur $[0,100]\\times [0,100]$. Représenter graphiquement une réalisation.\n",
    "\n",
    "*(Indication: On pourra utiliser les fonctions `random.poisson` et `random.uniform` de `numpy`)*"
   ]
  },
  {
   "cell_type": "code",
   "execution_count": 3,
   "metadata": {},
   "outputs": [],
   "source": [
    "import numpy as np\n",
    "rng = np.random.default_rng(seed=42)\n",
    "import matplotlib.pyplot as plt\n",
    "import scipy.stats as sps"
   ]
  },
  {
   "cell_type": "code",
   "execution_count": 5,
   "metadata": {},
   "outputs": [
    {
     "name": "stdout",
     "output_type": "stream",
     "text": [
      "496\n"
     ]
    },
    {
     "data": {
      "image/png": "[encoded data removed]",
      "text/plain": [
       "<Figure size 640x480 with 1 Axes>"
      ]
     },
     "metadata": {},
     "output_type": "display_data"
    }
   ],
   "source": [
    "# Parameters\n",
    "theta = 0.05\n",
    "a = 100\n",
    "b = 100\n",
    "\n",
    "# Poisson simulation function\n",
    "def poisson_simulation(theta, a, b):\n",
    "    S =   a*b\n",
    "    N =   np.random.poisson(theta * S)\n",
    "    # on a prouvé question 2 que sachant N, les coordonnées des points sont indépendantes et uniformément distribuées\n",
    "    x =   [np.random.uniform([0, 100]) for i in range(N)]\n",
    "    y =   [np.random.uniform([0, 100]) for i in range(N)]\n",
    "    print(N)\n",
    "    return np.column_stack((x, y))\n",
    "\n",
    "# Plotting\n",
    "data = poisson_simulation(theta, a, b)\n",
    "plt.scatter(data[:, 0], data[:, 1], s =2)\n",
    "plt.show()\n"
   ]
  },
  {
   "cell_type": "markdown",
   "metadata": {},
   "source": [
    "Cette première simulation peut représenter l'implantation de pousses d'arbres (en nombre poissonnien) réalisée \"au hasard\", par exemple après une coupe rase. On peut imaginer que des facteurs extérieurs puissent interférer avec ce processus, ce que l'on va décrire avec les processus de Poisson hétérogènes."
   ]
  },
  {
   "cell_type": "markdown",
   "metadata": {},
   "source": [
    "## Processus de Poisson hétérogène\n",
    "\n",
    "Dans le cas du processus de Poisson hétérogène, l'intensité du processus $ \\theta = \\left( \\theta (x), x \\in \\R^2 \\right)$ varie. Il se définit comme suit :\n",
    "\n",
    "1. Si $ A \\in {\\cal B} (\\R^2) $, alors $N (A)$\n",
    "      suit une loi de Poisson de paramètre\n",
    "      $$ \\theta (A) \\ = \\ \\int_A \\theta (x) \\, dx. $$\n",
    "\n",
    "2. Si $A_1,...,A_p \\in {\\cal B} (\\R^2) $ sont \n",
    "      disjoints deux à deux, alors $ N(A_1),...,N(A_p)$ sont \n",
    "      mutuellement indépendants\n"
   ]
  },
  {
   "cell_type": "markdown",
   "metadata": {},
   "source": [
    "\n",
    "**Question 1.**  Soit $n \\in \\mathbb{N}^\\star$, montrer que si $N(A)=n$ les $n$ points sont indépendamment distribués dans $A$ avec la même densité de probabilité \n",
    "  $$ f (x)=\\frac{\\theta (x)}{\\theta (A)}, \\qquad x \\in A $$\n",
    "\n",
    "*(Indication : On pourra considérer $B \\subset A$ quelconque et identifier la loi de $\\mathbb{P}(N(B) = i | N(A) = n)$. On pourra ensuite étudier $\\mathbb{P}(N(B) = 1 | N(A) = 1)$ pour identifier la loi de probabilité de l'implantation des points)*\n",
    "\n",
    " <!-- <font color='blue'> Au vu de ce qu'ils connaissent de la notion d'indépendance, est-ce qu'on pourrait pas plutôt leur faire montrer que pour tous $B_1, \\dots, B_p \\subset A$, \n",
    " $$ \\mathbb{P}(X_1\\in B_1, \\dots, X_n \\in B_n | N(A) = n) = \\prod_{i=1}^n\\mathbb{P}(U\\in B_i)$$\n",
    " où $(X_1, \\dots, X_n)$ représente le processus ponctuel conditionné et $U$ une variable uniforme dans A.\n",
    "\n",
    " Je propose:\n",
    "\n",
    "\n",
    "**Question 1.** Soit $n\\ge 1$ et $A \\in {\\cal B} (\\R^2)$. Supposons que le processus ponctuel vérifie $N(A)=n$ et notons $(X_1,\\dots, X_n)$ les positions aléatoires, dans $A$, des points du processus. \n",
    "\n",
    "**a.** Montrer que, pour tous $B_1, \\dots, B_n \\subset A$ deux à deux disjoints\n",
    "$$ \\mathbb{P}(X_1\\in B_1, \\dots, X_n \\in B_n | N(A) = n) = \\frac{1}{n!} \\mathbb{P}(N(B_1)=1, \\dots, N(B_n)=1 | N(A) = n) $$\n",
    "\n",
    "**b.** En déduire que, pour tous $B_1, \\dots, B_n \\subset A$ deux à deux disjoints\n",
    "$$ \\mathbb{P}(X_1\\in B_1, \\dots, X_n \\in B_n | N(A) = n) = \\prod_{i=1}^n\\mathbb{P}(U\\in B_i)$$\n",
    "où $U$ est la variable aléatoire de densité de probabilité \n",
    "  $$ f_U (x)=\\frac{\\theta (x)}{\\theta (A)}, \\qquad x \\in A. $$\n",
    "\n",
    "Et on admet que ca reste vrai quand les $B_i$ ne sont pas disjoints (ou alors on met ca en question bonus, acr c'est plus galère à faire...).\n",
    "\n",
    "-> l'idée est ici de leur faire utiliser la même démarche qu'en homogène pour établir l'indépendance\n",
    "\n",
    "  </font> -->"
   ]
  },
  {
   "cell_type": "markdown",
   "metadata": {},
   "source": [
    "**Réponse 1** : On procède exactement comme dans la première partie pour calculer $\\mathbb{P}(N(B) = i | N(A) = n)$ avec B inclus dans A, la seule différence est que le paramètre $\\theta$ n'est pas le même pour A et B. Ainsi on a: \n",
    "$$\\mathbb{P}(N(B) = i | N(A) = n)=\\frac{\\mathbb{P}(N(A\\backslash B)=n-i)*\\mathbb{P}(N(B) = i)}{\\mathbb{P}(N(A) = n)} $$\n",
    "$$=\\frac{\\exp \\bigl( - \\theta(A\\backslash B) \\bigr) \\frac{\\bigl( \\theta(A\\backslash B) \\bigr)^{n-i} }{(n-i)!}*\\exp \\bigl( - \\theta(B) \\bigr) \\frac{\\bigl( \\theta(B) \\bigr)^i }{i!}}{\\exp \\bigl( - \\theta(A) \\bigr) \\frac{\\bigl( \\theta(A) \\bigr)^n }{n!}}$$\n",
    "$$={n \\choose i}\\left( 1-f(B) \\right)^{n-i} \\left( f(B) \\right)^{i}$$\n",
    "\n",
    "On reconnaît encore une loi Binomiale de paramètres (n, f(B)), ce qui correspond encore à une somme de variables de Bernouilli indépendantes de même paramètre f(B) donc c'est comme si chacun des n points était distribués de manière indépendantes dans A selon une densité de probabilité f(B).\n",
    "\n",
    "On peut donc calculer :\n",
    "$$\\mathbb{P}(N(B) = 1 | N(A) = 1) = f(B)$$\n",
    "La loi de probabilité d'implantation des points est donc la loi qui a une densité de probabilité f"
   ]
  },
  {
   "cell_type": "markdown",
   "metadata": {},
   "source": [
    "**Question 3.** Soient $A, B \\in \\cal{B}(\\mathbb{R}^2)$, montrer que $\\mathrm{Cov}(N(A),N(B)) = \\theta (A \\cap B)$.\n",
    "\n",
    "\n",
    "**Réponse 3** : \n",
    "- Si A et B sont disjoint par indépendance de N(A) et N(B) (par définition) alors $\\mathrm{Cov}(N(A),N(B)) = 0 =\\theta (A \\cap B)$.\n",
    "\n",
    "- Sinon $N(A)= N(A\\backslash B) + N(A \\cap B)$   \n",
    "donc $\\mathrm{Cov}(N(A),N(B)) = \\mathrm{Cov}(N(A\\backslash B) ,N(B)) + \\mathrm{Cov}(N(A \\cap B), N(B))$   \n",
    "or $A\\backslash B$ et $B$ sont disjoints donc $\\mathrm{Cov}(N(A\\backslash B) ,N(B))=0$.  \n",
    "Ainsi il reste juste à calculer $\\mathrm{Cov}(N(A \\cap B), N(B))$ on pose $C=A \\cap B$, on se ramène à la question 1 car C est inclus dans B   \n",
    "$\\mathrm{Cov}(N(C),N(B)) =\\mathbb{E}(N(C)N(B))-\\mathbb{E}(N(C))\\mathbb{E}(N(B))$  \n",
    "Or comme N(C) et N(B) suivent des lois de poisson de paramètres respectifs $\\theta (C)$ et $\\theta (B)$ leurs espérances vallent $\\theta (C)$ et $\\theta (B)$  \n",
    "Donc il nous reste à calculer $\\mathbb{E}(N(C)N(B))$\n",
    "$$\\mathbb{E}(N(C)N(B))=\\sum_{n=0}^{\\inf}\\sum_{i=0}^{\\inf}ni\\mathbb{P}(N(C) = i, N(B) = n)$$\n",
    "$$\\mathbb{E}(N(C)N(B))=\\sum_{n=0}^{\\inf}\\sum_{i=0}^{\\inf}ni\\mathbb{P}(N(C) = i| N(B) = n)\\mathbb{P}(N(B)=n)$$\n",
    "$$\\mathbb{E}(N(C)N(B))=\\sum_{n=0}^{\\inf}n\\mathbb{P}(N(B)=n)\\sum_{i=0}^{n}i{ n \\choose i } \\left( f_{B}(C) \\right)^i \n",
    "\\, \\left( 1 - f_{B}(C) \\right)^{n - i}$$\n",
    "car on s'est ramené au cas de la question 1, avec $f_{B}(x) = \\frac{\\theta(x)}{\\theta(B)}$\n",
    "\n",
    "On reconnait pour la seconde somme l'espérance d'une loi de Binomiale de paramètre $(n,f_{B}(C))$ d'où:\n",
    "$$\\mathbb{E}(N(C)N(B))=f_{B}(C)*\\sum_{n=0}^{\\inf}n^2 e^{- \\theta(B)} \\frac{\\theta(B)^n }{n!}$$\n",
    "\n",
    "On reconnait ici la variance + l'espérance au carrée d'une loi de Poisson de paramètre $\\theta(B)$ qui vaut $\\theta(B)^2+\\theta (B)$ \n",
    "Ainsi $\\mathbb{E}(N(C)N(B))=f_{B}(C)\\theta(B)(1+\\theta(B)) = \\theta(C) (1 + \\theta(B))$ \n",
    "D'où:\n",
    "$$\\mathrm{Cov}(N(A),N(B))=\\theta(C)(1+\\theta(B))-\\theta(C)\\theta(B)$$\n",
    "$$=\\theta(C)$$\n",
    "$$=\\theta(A\\cap B)$$"
   ]
  },
  {
   "cell_type": "markdown",
   "metadata": {},
   "source": [
    "Si la plantation se fait en plusieurs campagnes, ou bien si on s'intéresse à différentes essences d'arbres, on peut être amené à combiner plusieurs processus ponctuels.\n",
    "\n",
    "**Question 4.** Montrer que l'union de deux processus de Poisson indépendants d'intensités respectives $\\theta_1$ et $\\theta_2$ est un processus de Poisson d'intensité $\\theta = \\theta_1+\\theta_2$."
   ]
  },
  {
   "cell_type": "markdown",
   "metadata": {},
   "source": [
    "**Réponse 4** : L'union de 2 variables indépendantes suivants des lois de Poisson de paramètres respectifs $\\theta_1$ et $\\theta_2$ est la somme de ces 2 variables. Or la somme de 2 lois de Poisson indépendantes $X_1$ et $X_2$ est égale à une loi de Poisson Z de paramètre égal à la somme des paramètres précedents.\n",
    "\n",
    "En effet : \n",
    "$Z = X_1 + X_2$\n",
    "Donc sous forme d'évenements : $(Z = n) = \\cup_{k = 0}^{n} (X_1 = k, X_2 = n-k)$\n",
    "$X_1$ et $X_2$ étant indépendantes, on a :\n",
    "$$ \\mathbb{P}(Z = n) = \\sum_{k=0}^{n} \\mathbb{P}(X_1 = k) \\mathbb{P}(X_2 = n-k)$$\n",
    "$$ = \\sum_{k=0}^{n} \\frac{e^{-\\theta_1} \\theta_1^{k}}{k!} \\frac{e^{-\\theta_2} \\theta_2^{n-k}}{(n-k)!}$$\n",
    "$$ = \\frac{e^{-\\theta_1}e^{-\\theta_2}}{n!} \\sum_{k=0}^{n} \\frac{\\theta_1^{k}}{k!} \\frac{\\theta_2^{n-k}}{(n-k)!} n!$$\n",
    "$$ = \\frac{e^{-(\\theta_1+\\theta_2)}}{n!} \\sum_{k=0}^{n} \\binom{n}{k} \\theta_1^{k}  \\theta_2^{n-k}$$\n",
    "$$ = \\frac{e^{-(\\theta_1+\\theta_2)} (\\theta_1+ \\theta_2)^{n}}{n!} $$\n",
    "\n",
    "\n",
    "L'intégrale est linéaire donc si $\\theta = \\theta_1+\\theta_2$ alors on a bien $\\theta(A) = \\theta_1(A)+\\theta_2(A)$\n",
    "\n",
    "C'est donc bien un processus de Poisson d'intensité $\\theta = \\theta_1+\\theta_2$"
   ]
  },
  {
   "cell_type": "markdown",
   "metadata": {},
   "source": [
    "On suppose que l'altitude (en mètres) du domaine d'étude $D=[0,100]\\times [0,100]$ peut être décrite par la fonction suivante : \n",
    "$$f(x) = 10^4 \\left(f_{(30,20),\\Sigma_1}(x) + f_{(80,45),\\Sigma_2}(x) + f_{(30,70),\\Sigma_3}(x)\\right), x\\in \\mathbb{R^2}$$\n",
    "\n",
    "où $f_{\\mu, \\Sigma}$ est la densité gaussienne bivariée d'espérance $\\mu$ et de matrice de covariance $\\Sigma$.\n",
    "\n",
    "**Question 5.** Représenter la topographie du domaine d'étude, avec\n",
    "$$\\Sigma_1 = \\begin{pmatrix} 400 & 30 \\\\ 30 & 100\\end{pmatrix}, \\Sigma_2 = \\begin{pmatrix} 100 & 20 \\\\ 20 & 200\\end{pmatrix}, \\Sigma_3 = \\begin{pmatrix} 150 & -30 \\\\ -30 & 100\\end{pmatrix}.$$\n",
    "*(Indication: On pourra utiliser la fonction `multivariate_normal`  de `scipy.stats` pour évaluer les fonctions $f_{\\mu, \\Sigma}$)*"
   ]
  },
  {
   "cell_type": "code",
   "execution_count": 6,
   "metadata": {},
   "outputs": [
    {
     "data": {
      "image/png": "[encoded data removed]",
      "text/plain": [
       "<Figure size 640x480 with 2 Axes>"
      ]
     },
     "metadata": {},
     "output_type": "display_data"
    }
   ],
   "source": [
    "from scipy.stats import multivariate_normal\n",
    "x, y = np.mgrid[0:100:.05, 0:100:.05]\n",
    "\n",
    "pos = np.dstack((x, y))\n",
    "\n",
    "\n",
    "def topo(x): \n",
    "    f1=multivariate_normal.pdf(x, mean=[30,20], cov=[[400,30],[30,100]])\n",
    "    f2=multivariate_normal.pdf(x, mean=[80,45], cov=[[100,20],[20,200]])\n",
    "    f3=multivariate_normal.pdf(x, mean=[30,70], cov=[[150,-30],[-30,100]])\n",
    "    return 10**4*(f1+f2+f3)\n",
    "\n",
    "fig = plt.figure()\n",
    "\n",
    "ax = fig.add_subplot(111)\n",
    "\n",
    "CS = ax.contourf(x, y, topo(pos))\n",
    "CS2 = ax.contour(CS, levels=CS.levels)\n",
    "# Make a colorbar for the ContourSet returned by the contourf call.\n",
    "cbar = fig.colorbar(CS)\n",
    "cbar.ax.set_ylabel('altitude')\n",
    "# Add the contour line levels to the colorbar\n",
    "cbar.add_lines(CS2)\n",
    "plt.show()"
   ]
  },
  {
   "cell_type": "markdown",
   "metadata": {},
   "source": [
    "On supposera en première approximation que l'on peut considérer les supports des fonctions $f_{(30,20),\\Sigma_1}$, $f_{(80,45),\\Sigma_2}$ et $f_{(30,70),\\Sigma_3}$ comme disjoints, que le maximum de la fonction $f$ vaut\n",
    "$$ f_{\\max}=\\max_{x\\in D} f(x)=10^4\\times f_{(30,70),\\Sigma_3}(30,70) $$\n",
    "et que son minimum vaut\n",
    "$$ f_{\\min}=\\min_{x\\in D} f(x)=0$$\n",
    "<!-- et que \n",
    "$$ \\int_D f_{(3,2),\\Sigma_1}(x) dx=\\int_D f_{(8,4.5),\\Sigma_2}(x) dx=\\int_D f_{(3,7),\\Sigma_3}(x) dx=1$$ -> ça j'aimerais bien qu'ils s'en aperçoivent par eux même !-->"
   ]
  },
  {
   "cell_type": "markdown",
   "metadata": {},
   "source": [
    "Le processus d'implantation des arbres étant entravé par l'altitude, on choisi désormais de modéliser leur position par un processus de Poisson hétérogène dont l'intensité $\\theta$ est de la forme :\n",
    "$$ \\theta(x)=\\alpha\\times(f_{\\max} - f(x) )$$\n",
    "avec $ \\alpha>0$. "
   ]
  },
  {
   "cell_type": "markdown",
   "metadata": {},
   "source": [
    "\n",
    "**Question 6.** Déterminer le paramètre $\\alpha$ de la fonction d'intensité $\\theta$ tel que le nombre moyen d'arbres dans $D$ soit le même que celui obtenu à la Question 4 de la section précédente (cas homogène). Implémenter un algorithme de simulation d'un processus de Poisson suivant cette intensité sur $D$. Représenter graphiquement une réalisation.\n",
    "\n"
   ]
  },
  {
   "cell_type": "markdown",
   "metadata": {},
   "source": [
    "**Réponse 6** : Pour que le nombre moyen d'arbres dans $D = [0,100]\\times [0,100]$ (de surface S) soit le même entre les 2 lois, il faut que les paramètres soient les mêmes (car les 2 lois suivent des lois de Poisson). On veut donc (avec $\\theta_0 = 0,05$) $$\\theta_0 S = \\int_S \\alpha (f_max - f(x)) dx$$\n",
    "$$\\alpha = \\frac{\\theta_0 S}{\\int_S (f_max - f(x)) dx}$$\n",
    "On peut donc calculer alpha à l'aide du programme suivant et ainsi modéliser les points où il y a des arbres :"
   ]
  },
  {
   "cell_type": "code",
   "execution_count": null,
   "metadata": {},
   "outputs": [],
   "source": [
    "alpha = #à déterminer\n",
    "\n",
    "def theta(x):\n",
    "    fmax=10**4*multivariate_normal.pdf([30,70], mean=[30,70], cov=[[150,-30],[-30,100]])\n",
    "    f=topo(x)\n",
    "    return alpha*(fmax-f)\n",
    "\n",
    "# Rejection sampling for theta\n",
    "def rtheta(n, a, b):\n",
    "    k = 0\n",
    "    pts = np.empty((0, 2))\n",
    "    while k < n:\n",
    "        x = \n",
    "        y = \n",
    "        u = \n",
    "        if u < theta((x[0],y[0])): # remark: no need to know the normalization constant!\n",
    "            pts = np.vstack((pts, [x[0], y[0]]))\n",
    "            k += 1 \n",
    "    return pts\n",
    "\n",
    "# Poisson simulation function with rejection sampling\n",
    "def poisson2(a, b):\n",
    "    Theta = \n",
    "    N = \n",
    "    return rtheta(N, a, b)\n",
    "\n",
    "\n",
    "# Plotting\n",
    "X = poisson2(a, b)\n",
    "plt.scatter(X[:, 0], X[:, 1],s=2)\n",
    "plt.show()\n",
    "\n",
    "# Plot 2D histogram\n",
    "plt.hist2d(X[:,0],X[:,1],50)\n",
    "plt.show()"
   ]
  },
  {
   "cell_type": "markdown",
   "metadata": {},
   "source": [
    "## Processus ponctuels marqués et extension spatio-temporelle\n",
    "\n",
    "En complément de la coordonnée en chaque point du processus, on peut attribuer une ou plusieurs variables aléatoires. Celles-ci peuvent représenter des caractéristiques du phénomène étudié comme la magnitude d'un séisme ou bien la hauteur d'un arbre. \n",
    "\n",
    "**Question 1.** On suppose que chaque arbre croît indépendamment chaque année $t$ selon une loi exponentielle de paramètre $4 + B_t/2$, où les $B_t$ sont des variables de Bernoulli indépendantes de paramètre $2/5$. $B_t$ vaudra 0 si les conditions météorologiques de l'année sont favorables et 1 sinon. Calculer la hauteur moyenne d' un arbre au bout de 10 ans. Vérifier le résultat expérimentalement en proposant un estimateur calculé sur un ensemble de simulations ainsi qu'un intervalle de confiance."
   ]
  },
  {
   "cell_type": "markdown",
   "metadata": {},
   "source": [
    "**Réponse 1**: D'après l'énoncé on a $\\mathbb{P}(B_t=1)=\\frac{2}{5}$ et $\\mathbb{P}(B_t=0)=\\frac{3}{5}$  \n",
    "On nomme $H_t$ la croissance d'un arbre sur une année  \n",
    "La variable H de la hauteur d'un arbre qu'on cherche à estimer est donc:\n",
    "$$ H=\\sum_{t=1}^{10}H_t $$\n",
    "D'où: $\\mathbb{E}(H) =\\sum_{t=1}^{10}\\mathbb{E}(H_t)$  \n",
    "Or les $H_t$ suivent la même loi car les $B_t$ suivent la même loi ainsi : $\\mathbb{E}(H)=10\\mathbb{E}(H_t)$  \n",
    "\n",
    "Sachant $B_t=i$, $H_t$ suit une loi exponentielle de paramètre $\\lambda=4+\\frac{i}{2}$ ainsi:\n",
    "$$\\mathbb{E}(H_i|B_t)=\\frac{1}{4+\\frac{B_t}{2}}$$\n",
    "D'ou : \n",
    "$$\\mathbb{E}(H_i)=\\mathbb{E}(\\mathbb{E}(H_i|B_t))$$\n",
    "$$\\mathbb{E}(H_i)=\\frac{2}{5}*\\frac{1}{4+\\frac{1}{2}}+\\frac{1}{4}*\\frac{3}{5}=\\frac{43}{180}$$  \n",
    "\n",
    "Donc: $\\mathbb{E}(H)=\\frac{43}{18}$"
   ]
  },
  {
   "cell_type": "code",
   "execution_count": 8,
   "metadata": {},
   "outputs": [
    {
     "name": "stdout",
     "output_type": "stream",
     "text": [
      "True mean:  2.388888888888889\n",
      "Mean of simulations:  2.390787016205711\n",
      "Confidence interval:  [2.3860975316824895, 2.3954765007289325]\n"
     ]
    }
   ],
   "source": [
    "## True mean \n",
    "h_mean=43/18\n",
    "\n",
    "## Growth after one year\n",
    "def height_1(b):\n",
    "    u=np.random.uniform() #on simule une loi uniforme sur [0,1]\n",
    "    x=-np.log(u)/(4+b/2) #on utilise la méthode d'inversion\n",
    "    return x\n",
    "\n",
    "## Height after ten years\n",
    "def height_n(nyears=10):\n",
    "    h=0\n",
    "    for i in range(nyears):\n",
    "        b=np.random.binomial(1,2/5)\n",
    "        h+=height_1(b)\n",
    "    return h\n",
    "\n",
    "## Mean of simulations\n",
    "nbsim= 100000\n",
    "hsim=np.array([height_n() for i in range(nbsim)])\n",
    "hsim_mean=np.mean(hsim)\n",
    "print(\"True mean: \",h_mean)\n",
    "print(\"Mean of simulations: \",hsim_mean)\n",
    "\n",
    "## Proposed confidence interval: \n",
    "hsim_std=np.std(hsim)\n",
    "## On calcule l'intervalle de confiance à 95%\n",
    "## on rapelle qu'il se définit comme suit : [mean-1.96*std/sqrt(n),mean+1.96*std/sqrt(n)]\n",
    "hsim_conf=[hsim_mean-1.96*hsim_std/np.sqrt(nbsim),hsim_mean+1.96*hsim_std/np.sqrt(nbsim)]\n",
    "print(\"Confidence interval: \",hsim_conf)\n",
    "\n"
   ]
  },
  {
   "cell_type": "markdown",
   "metadata": {},
   "source": [
    "La valeur réelle de la moyenne se trouve bien dans l'intervalle de confiance, la simulation est cohérente"
   ]
  },
  {
   "cell_type": "markdown",
   "metadata": {},
   "source": [
    "On suppose maintenant que dès qu'un arbre a dépassé les 3m de hauteur, il va disperser un nombre poissonien d'intensité 3 de graines qui germeront dans un rayon exponentiel de paramètre 1/20. Ceci définit un processus ponctuel représentant des agrégats, connu sous le nom de processus de Neyman-Scott. On fait de plus l'hypothèse que la proximité entre arbres va entraver leur croissance annuelle, de fait que celle-ci suivra une loi exponentielle de paramètre $4 + B_t/2 + 2\\exp(-d)$, où $d$ est la distance à l'arbre le plus proche. Enfin, on considère que lors des années où la météo est défavorable, les arbres sont décimés indépendamment les uns des autres avec une probabilité $\\min(0.15,1/T^2)$ où $T$ est la taille de l'arbre en mètres.\n"
   ]
  },
  {
   "cell_type": "markdown",
   "metadata": {},
   "source": [
    "\n",
    "**Question 2.** Simuler cette dynamique sur une période de 100 ans à partir de l'état initial de la forêt généré à la question 6 de la section précédente. Représenter l'état final en faisant apparaître la hauteur des arbres via une échelle de couleur (on négligera les arbres qui pousseront en dehors du domaine d'étude)."
   ]
  },
  {
   "cell_type": "code",
   "execution_count": null,
   "metadata": {},
   "outputs": [],
   "source": [
    "\n",
    "## Growth after one year\n",
    "def height_1(b,d): #Note pour Chloé: j'ai ajouté un paramètre d je ne sais pas si il fallait le faire\n",
    "    u=np.random.uniform() \n",
    "    H_t=-np.log(u)/(4+b/2+2*np.exp(-d)) \n",
    "    return H_t\n",
    "\n",
    "## Compute distance to closest tree\n",
    "def distance(x,y):\n",
    "    return np.sqrt((x[0]-y[0])**2+(x[1]-y[1])**2)\n",
    "def computeMinDist(X):\n",
    "    d=np.zeros(np.shape(X)[0])\n",
    "    for x in X:\n",
    "        d=np.min([distance(x,y) for y in X if (y!=x)])\n",
    "    return d\n",
    "\n",
    "## Definition of the probability of decimation\n",
    "### h : Height of the tree\n",
    "### pmax : Maximum of the probability\n",
    "def probDecim(h,pmax):\n",
    "    return min(pmax, 1/(h**2))  \n",
    "\n",
    "## Function to simulate the forest\n",
    "def simForest(nbyears,lam,param,pmin):\n",
    "\n",
    "\n",
    "    ## Simulate the position of initial trees: (x,y,time of birth)\n",
    "    \n",
    "    X = poisson2(100, 100)\n",
    "    X = np.hstack((X,np.zeros((np.shape(X)[0],1))))\n",
    "\n",
    "    ## Heights\n",
    "    # Initial heights\n",
    "    d=computeMinDist(X[:,0:1])\n",
    "    b=np.random.binomial(1,2/5)\n",
    "    h=height_1(b)\n",
    "\n",
    "    ## Age\n",
    "    \n",
    "\n",
    "    for i in range(nbyears):\n",
    "        \n",
    "        ## Weather\n",
    "        b=np.random.binomial(1,2/5)\n",
    "\n",
    "        ## Compute distance to closest tree\n",
    "        d=computeMinDist(X[:,0:1])\n",
    "\n",
    "        ## Add heights\n",
    "        h+=height_1(b,d)\n",
    "        \n",
    "        ## Decimate\n",
    "        \n",
    "            \n",
    "        if len(h)==0:\n",
    "            print(\"All trees have died...\")\n",
    "            break\n",
    "            \n",
    "        \n",
    "        ## Find which trees have just reached 3m\n",
    "        \n",
    "        ## Spawn new trees\n",
    "        \n",
    "        ## Update heights\n",
    "\n",
    "    return X, h\n",
    "\n"
   ]
  },
  {
   "cell_type": "code",
   "execution_count": null,
   "metadata": {},
   "outputs": [],
   "source": [
    "## Intensity of the offsprings\n",
    "lam=3\n",
    "\n",
    "## Parameter of the radius\n",
    "param=1/20\n",
    "\n",
    "## Maximal probability of decimation\n",
    "pmax=0.15\n",
    "\n",
    "## Number of years\n",
    "nbyears=100\n",
    "\n",
    "## Generate simulation\n",
    "X, h = simForest(nbyears,lam,param,pmax)\n",
    "\n",
    "## Plot\n",
    "plt.scatter(X[:,0],X[:,1],c=h,s=1)\n",
    "plt.xlim(0,100)\n",
    "plt.ylim(0,100)\n",
    "plt.colorbar()\n",
    "plt.title(\"Number of trees: \"+str(X.shape[0]))\n",
    "plt.show()"
   ]
  },
  {
   "cell_type": "markdown",
   "metadata": {},
   "source": [
    "\n",
    "**Question 3.** Répéter la simulation précédente un grand nombre de fois. Proposer une estimation accompagnée d'un intervalle de confiance du nombre moyen d'arbres, de l'âge moyen des arbres ainsi que de leur taille moyenne à l'issue des 100 années d'évolution."
   ]
  },
  {
   "cell_type": "code",
   "execution_count": null,
   "metadata": {},
   "outputs": [],
   "source": [
    "## Number of simulations\n",
    "nbsim = 1000\n",
    "\n",
    "## Generate simulations\n",
    "Nlist=np.zeros(nbsim)\n",
    "hlist=np.zeros(nbsim)\n",
    "for i in range(nbsim):\n",
    "    \n",
    "## Means\n",
    "print(\"Mean number of trees:\",Nlist.mean())\n",
    "print(\"Mean height of trees:\",hlist.mean())"
   ]
  },
  {
   "cell_type": "markdown",
   "metadata": {},
   "source": [
    "**Question 4.** (facultatif) Proposer et implémenter un algorithme rendant la simulation plus réaliste, au regard des ressources que vous pourriez trouver par vous même.\n",
    "\n",
    "**Question 5.** (facultatif) Représenter sous forme dynamique (animation) l'évolution de la forêt sur la période considérée."
   ]
  }
 ],
 "metadata": {
  "kernelspec": {
   "display_name": "CDIS",
   "language": "python",
   "name": "python3"
  },
  "language_info": {
   "codemirror_mode": {
    "name": "ipython",
    "version": 3
   },
   "file_extension": ".py",
   "mimetype": "text/x-python",
   "name": "python",
   "nbconvert_exporter": "python",
   "pygments_lexer": "ipython3",
   "version": "3.11.4"
  }
 },
 "nbformat": 4,
 "nbformat_minor": 2
}
